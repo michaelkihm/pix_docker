{
 "nbformat": 4,
 "nbformat_minor": 2,
 "metadata": {
  "language_info": {
   "name": "python",
   "codemirror_mode": {
    "name": "ipython",
    "version": 3
   },
   "version": "3.7.7-final"
  },
  "orig_nbformat": 2,
  "file_extension": ".py",
  "mimetype": "text/x-python",
  "name": "python",
  "npconvert_exporter": "python",
  "pygments_lexer": "ipython3",
  "version": 3,
  "kernelspec": {
   "name": "python37764bitpixplotconda88ac873db2ec4d668687a3527225b535",
   "display_name": "Python 3.7.7 64-bit ('pixplot': conda)"
  }
 },
 "cells": [
  {
   "cell_type": "code",
   "execution_count": 39,
   "metadata": {},
   "outputs": [],
   "source": [
    "import pandas as pd \n",
    "import os \n",
    "import cv2 as cv \n",
    "import numpy as np \n",
    "import imutils"
   ]
  },
  {
   "cell_type": "code",
   "execution_count": 40,
   "metadata": {},
   "outputs": [
    {
     "output_type": "execute_result",
     "data": {
      "text/plain": "4935"
     },
     "metadata": {},
     "execution_count": 40
    }
   ],
   "source": [
    "cloud_files = []\n",
    "# r=root, d=directories, f = files\n",
    "path_orig = '/media/arch_cloud/Datensammlung fuer Bilddatenbank/'\n",
    "#path_orig = '/media/arch_cloud/oeff_resized_500'\n",
    "for r, d, f in os.walk(path_orig):\n",
    "    for file in f:\n",
    "        if '.tif' in file.lower() or '.jpg' in file.lower() or '.png' in file.lower():\n",
    "            cloud_files.append(os.path.join(r, file))\n",
    "len(cloud_files)"
   ]
  },
  {
   "cell_type": "code",
   "execution_count": 41,
   "metadata": {},
   "outputs": [
    {
     "output_type": "execute_result",
     "data": {
      "text/plain": "4314"
     },
     "metadata": {},
     "execution_count": 41
    }
   ],
   "source": [
    "#remove duplicates\n",
    "cloud_files_final = []\n",
    "for file in cloud_files:\n",
    "    final_base = [os.path.basename(i)[:-4] for i in cloud_files_final]\n",
    "    if(os.path.basename(file)[:-4] not in final_base):\n",
    "        cloud_files_final.append(file)\n",
    "\n",
    "cloud_files_final = sorted(cloud_files_final, key=lambda x: os.path.basename(x))\n",
    "len(cloud_files_final)"
   ]
  },
  {
   "cell_type": "code",
   "execution_count": 43,
   "metadata": {},
   "outputs": [
    {
     "output_type": "stream",
     "name": "stdout",
     "text": "iteration:  0\niteration:  500\niteration:  1000\niteration:  1500\niteration:  2000\niteration:  2500\niteration:  3000\niteration:  3500\niteration:  4000\n"
    }
   ],
   "source": [
    "size = (400,400)\n",
    "path = \"/home/michael/Desktop/test_oeff\"\n",
    "local = []\n",
    "deleted_indices = []\n",
    "temp = os.listdir(path)\n",
    "local_added = []\n",
    "\n",
    "#file1 = open(\"test.txt\",\"w\") \n",
    "\n",
    "for file in temp:\n",
    "    local_added.append(file[:-4])\n",
    "\n",
    "\n",
    "for i in range(len(cloud_files_final)):\n",
    "    file = cloud_files_final[i]\n",
    "    if os.path.basename(file)[:-4] not in local_added:\n",
    "        im = cv.imread(file,cv.IMREAD_COLOR)\n",
    "        if type(im).__module__ != np.__name__:\n",
    "            deleted_indices.append(i)\n",
    "        else:\n",
    "            #im = cv.resize(im,size) \n",
    "            im = imutils.resize(im,width=400,height=400)\n",
    "            im_name = os.path.basename(file)\n",
    "            #file1.write(im_name+'\\n')\n",
    "            im_name = im_name[:-4] + '.jpg'#change file ending to .jpg\n",
    "            #file1.write(im_name+'\\n \\n')\n",
    "            cv.imwrite(os.path.join(path,im_name), im)\n",
    "            #local.append(os.path.join(path,im_name))\n",
    "    if(i % 500 == 0):\n",
    "        print(\"iteration: \",i)\n",
    "    \n",
    "\n",
    "#delete not readable images\n",
    "for i in reversed(deleted_indices):\n",
    "    cloud_files_final.pop(i)\n",
    "\n",
    "#update local added images    \n",
    "temp = os.listdir(path)\n",
    "local_added = []\n",
    "for file in temp:\n",
    "    local_added.append(file[:-4])\n",
    "\n",
    "#file1.close()\n",
    "local_added = sorted(local_added, key=lambda x: os.path.basename(x))\n",
    "assert len(cloud_files_final) == len(local_added)"
   ]
  },
  {
   "cell_type": "code",
   "execution_count": 55,
   "metadata": {},
   "outputs": [
    {
     "output_type": "stream",
     "name": "stdout",
     "text": "/media/arch_cloud/Datensammlung fuer Bilddatenbank/Sonderausgabe AW 2016-1 Bilder/Englische Versionen/Heft 1.2016 engl/01-39 DAI Ausgabe 1.2016 engl. Ordner/Links/07_Buto_Grabung.tif  \n 07_Buto_Grabung\n"
    }
   ],
   "source": [
    "index = 90\n",
    "print(cloud_files_final[index], \" \\n\", local_added[index])"
   ]
  },
  {
   "cell_type": "code",
   "execution_count": 71,
   "metadata": {},
   "outputs": [],
   "source": [
    "#filename\n",
    "files = [os.path.basename(i)+'.jpg' for i in local_added]\n",
    "files= sorted(files, key=lambda x: os.path.basename(x))\n",
    "#Metadata Tags\n",
    "metadata = ['Scannsamlung' for i in range(len(local_added))]\n",
    "#Description\n",
    "description = [os.path.basename(i) for i in local_added]\n",
    "\n",
    "assert len(files) == len(metadata)\n",
    "assert len(metadata) == len(description)"
   ]
  },
  {
   "cell_type": "code",
   "execution_count": 72,
   "metadata": {},
   "outputs": [],
   "source": [
    "#Permalink\n",
    "base = 'http://oneeyedjacks01.dai-cloud.uni-koeln.de/oeff/'\n",
    "cut_off_index = 4\n",
    "permalink = []\n",
    "for file in cloud_files_final:\n",
    "    temp = file.split('/')\n",
    "    base_temp = base\n",
    "    for i in range(cut_off_index,len(temp)):\n",
    "        base_temp = base_temp + temp[i] + '/'\n",
    "    base_temp = base_temp[:-1]#remove last character\n",
    "    permalink.append(base_temp)\n",
    "\n",
    "permalink= sorted(permalink, key=lambda x: os.path.basename(x))\n",
    "assert len(files) == len(permalink)"
   ]
  },
  {
   "cell_type": "code",
   "execution_count": 73,
   "metadata": {},
   "outputs": [],
   "source": [
    "dataframe = pd.DataFrame({'Filename': files, 'Metadata Tags': metadata, 'Description':description,\t'Permalink':permalink})"
   ]
  },
  {
   "cell_type": "code",
   "execution_count": 74,
   "metadata": {},
   "outputs": [],
   "source": [
    "oeff = ''\n",
    "dataframe.to_csv(str(oeff + 'metadata.csv'),index=False)"
   ]
  },
  {
   "cell_type": "code",
   "execution_count": 75,
   "metadata": {},
   "outputs": [
    {
     "output_type": "execute_result",
     "data": {
      "text/plain": "                              Filename Metadata Tags  \\\n0  0 Aufmacher Luftbild Kunst cmyk.jpg  Scannsamlung   \n1             0-TT Intro Aufmacher.jpg  Scannsamlung   \n2           0-TT Intro Aufmacher_2.jpg  Scannsamlung   \n3            0-Wiegand-Haus-Berlin.jpg  Scannsamlung   \n4                     01-HMDModell.jpg  Scannsamlung   \n\n                       Description  \\\n0  0 Aufmacher Luftbild Kunst cmyk   \n1             0-TT Intro Aufmacher   \n2           0-TT Intro Aufmacher_2   \n3            0-Wiegand-Haus-Berlin   \n4                     01-HMDModell   \n\n                                           Permalink  \n0  http://oneeyedjacks01.dai-cloud.uni-koeln.de/o...  \n1  http://oneeyedjacks01.dai-cloud.uni-koeln.de/o...  \n2  http://oneeyedjacks01.dai-cloud.uni-koeln.de/o...  \n3  http://oneeyedjacks01.dai-cloud.uni-koeln.de/o...  \n4  http://oneeyedjacks01.dai-cloud.uni-koeln.de/o...  ",
      "text/html": "<div>\n<style scoped>\n    .dataframe tbody tr th:only-of-type {\n        vertical-align: middle;\n    }\n\n    .dataframe tbody tr th {\n        vertical-align: top;\n    }\n\n    .dataframe thead th {\n        text-align: right;\n    }\n</style>\n<table border=\"1\" class=\"dataframe\">\n  <thead>\n    <tr style=\"text-align: right;\">\n      <th></th>\n      <th>Filename</th>\n      <th>Metadata Tags</th>\n      <th>Description</th>\n      <th>Permalink</th>\n    </tr>\n  </thead>\n  <tbody>\n    <tr>\n      <th>0</th>\n      <td>0 Aufmacher Luftbild Kunst cmyk.jpg</td>\n      <td>Scannsamlung</td>\n      <td>0 Aufmacher Luftbild Kunst cmyk</td>\n      <td>http://oneeyedjacks01.dai-cloud.uni-koeln.de/o...</td>\n    </tr>\n    <tr>\n      <th>1</th>\n      <td>0-TT Intro Aufmacher.jpg</td>\n      <td>Scannsamlung</td>\n      <td>0-TT Intro Aufmacher</td>\n      <td>http://oneeyedjacks01.dai-cloud.uni-koeln.de/o...</td>\n    </tr>\n    <tr>\n      <th>2</th>\n      <td>0-TT Intro Aufmacher_2.jpg</td>\n      <td>Scannsamlung</td>\n      <td>0-TT Intro Aufmacher_2</td>\n      <td>http://oneeyedjacks01.dai-cloud.uni-koeln.de/o...</td>\n    </tr>\n    <tr>\n      <th>3</th>\n      <td>0-Wiegand-Haus-Berlin.jpg</td>\n      <td>Scannsamlung</td>\n      <td>0-Wiegand-Haus-Berlin</td>\n      <td>http://oneeyedjacks01.dai-cloud.uni-koeln.de/o...</td>\n    </tr>\n    <tr>\n      <th>4</th>\n      <td>01-HMDModell.jpg</td>\n      <td>Scannsamlung</td>\n      <td>01-HMDModell</td>\n      <td>http://oneeyedjacks01.dai-cloud.uni-koeln.de/o...</td>\n    </tr>\n  </tbody>\n</table>\n</div>"
     },
     "metadata": {},
     "execution_count": 75
    }
   ],
   "source": [
    "dataframe.head()"
   ]
  },
  {
   "cell_type": "code",
   "execution_count": null,
   "metadata": {},
   "outputs": [],
   "source": []
  }
 ]
}