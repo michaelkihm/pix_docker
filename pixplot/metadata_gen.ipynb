{
 "nbformat": 4,
 "nbformat_minor": 2,
 "metadata": {
  "language_info": {
   "name": "python",
   "codemirror_mode": {
    "name": "ipython",
    "version": 3
   },
   "version": "3.7.6-final"
  },
  "orig_nbformat": 2,
  "file_extension": ".py",
  "mimetype": "text/x-python",
  "name": "python",
  "npconvert_exporter": "python",
  "pygments_lexer": "ipython3",
  "version": 3,
  "kernelspec": {
   "name": "python37764bitpixplotconda88ac873db2ec4d668687a3527225b535",
   "display_name": "Python 3.7.7 64-bit ('pixplot': conda)"
  }
 },
 "cells": [
  {
   "cell_type": "code",
   "execution_count": 1,
   "metadata": {},
   "outputs": [],
   "source": [
    "import pandas as pd \n",
    "import os "
   ]
  },
  {
   "cell_type": "code",
   "execution_count": 2,
   "metadata": {},
   "outputs": [],
   "source": [
    "path = '/home/michael/Desktop/oeff/oeff_resized'\n",
    "files_all = os.listdir(path)\n",
    "files = []\n",
    "files1 = []\n",
    "for file in files_all:\n",
    "    name, ext = os.path.splitext(file)\n",
    "    if ext == '.jpg':\n",
    "        name, ext = os.path.splitext(file)\n",
    "        name = name + '.jpg'\n",
    "        files.append(os.path.join(path,name)) \n",
    "        files1.append(name)\n",
    ""
   ]
  },
  {
   "cell_type": "code",
   "execution_count": 3,
   "metadata": {},
   "outputs": [],
   "source": [
    "dataframe = pd.DataFrame({'Filename': files, 'Metadata Tags': files1, 'Description':files1,\t'Permalink':files1})"
   ]
  },
  {
   "cell_type": "code",
   "execution_count": 4,
   "metadata": {},
   "outputs": [
    {
     "output_type": "execute_result",
     "data": {
      "text/plain": "                                                 Filename Metadata Tags  \\\ncount                                                4463          4463   \nunique                                               4463          4463   \ntop     /home/michael/Desktop/oeff/oeff_resized/Felsin...  P9190309.jpg   \nfreq                                                    1             1   \n\n         Description     Permalink  \ncount           4463          4463  \nunique          4463          4463  \ntop     P9190309.jpg  P9190309.jpg  \nfreq               1             1  ",
      "text/html": "<div>\n<style scoped>\n    .dataframe tbody tr th:only-of-type {\n        vertical-align: middle;\n    }\n\n    .dataframe tbody tr th {\n        vertical-align: top;\n    }\n\n    .dataframe thead th {\n        text-align: right;\n    }\n</style>\n<table border=\"1\" class=\"dataframe\">\n  <thead>\n    <tr style=\"text-align: right;\">\n      <th></th>\n      <th>Filename</th>\n      <th>Metadata Tags</th>\n      <th>Description</th>\n      <th>Permalink</th>\n    </tr>\n  </thead>\n  <tbody>\n    <tr>\n      <th>count</th>\n      <td>4463</td>\n      <td>4463</td>\n      <td>4463</td>\n      <td>4463</td>\n    </tr>\n    <tr>\n      <th>unique</th>\n      <td>4463</td>\n      <td>4463</td>\n      <td>4463</td>\n      <td>4463</td>\n    </tr>\n    <tr>\n      <th>top</th>\n      <td>/home/michael/Desktop/oeff/oeff_resized/Felsin...</td>\n      <td>P9190309.jpg</td>\n      <td>P9190309.jpg</td>\n      <td>P9190309.jpg</td>\n    </tr>\n    <tr>\n      <th>freq</th>\n      <td>1</td>\n      <td>1</td>\n      <td>1</td>\n      <td>1</td>\n    </tr>\n  </tbody>\n</table>\n</div>"
     },
     "metadata": {},
     "execution_count": 4
    }
   ],
   "source": [
    "dataframe.describe()"
   ]
  },
  {
   "cell_type": "code",
   "execution_count": 55,
   "metadata": {},
   "outputs": [],
   "source": [
    "oeff = '/home/michael/Desktop/oeff/'\n",
    "dataframe.to_csv(str(oeff + 'metadata.csv'),index=False)"
   ]
  },
  {
   "cell_type": "code",
   "execution_count": null,
   "metadata": {},
   "outputs": [],
   "source": []
  }
 ]
}